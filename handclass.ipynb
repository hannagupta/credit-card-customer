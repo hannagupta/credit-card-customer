{
  "cells": [
    {
      "cell_type": "markdown",
      "metadata": {
        "id": "view-in-github",
        "colab_type": "text"
      },
      "source": [
        "<a href=\"https://colab.research.google.com/github/hannagupta/credit-card-customer/blob/main/handclass.ipynb\" target=\"_parent\"><img src=\"https://colab.research.google.com/assets/colab-badge.svg\" alt=\"Open In Colab\"/></a>"
      ]
    },
    {
      "cell_type": "code",
      "execution_count": null,
      "metadata": {
        "id": "Rlb23PDp54tW"
      },
      "outputs": [],
      "source": [
        "import urllib.request\n",
        "with urllib.request.urlopen(\"https://cf-courses-data.s3.us.cloud-object-storage.appdomain.cloud/IBMDeveloperSkillsNetwork-DL0120EN-SkillsNetwork/labs/Week4/data/utils.py\") as url:\n",
        "    response = url.read()\n",
        "target = open('utils.py', 'w')\n",
        "target.write(response.decode('utf-8'))\n",
        "target.close()"
      ]
    },
    {
      "cell_type": "code",
      "source": [],
      "metadata": {
        "id": "09_TAK6miJIG"
      },
      "execution_count": null,
      "outputs": []
    },
    {
      "cell_type": "code",
      "execution_count": null,
      "metadata": {
        "colab": {
          "base_uri": "https://localhost:8080/",
          "height": 1000
        },
        "id": "IfuHBiBW6Ci0",
        "outputId": "d86ccdf7-f2a6-437e-d867-293806d88b8d"
      },
      "outputs": [
        {
          "name": "stdout",
          "output_type": "stream",
          "text": [
            "Looking in indexes: https://pypi.org/simple, https://us-python.pkg.dev/colab-wheels/public/simple/\n",
            "Collecting grpcio==1.24.3\n",
            "  Downloading grpcio-1.24.3-cp37-cp37m-manylinux2010_x86_64.whl (2.2 MB)\n",
            "\u001b[K     |████████████████████████████████| 2.2 MB 5.1 MB/s \n",
            "\u001b[?25hRequirement already satisfied: six>=1.5.2 in /usr/local/lib/python3.7/dist-packages (from grpcio==1.24.3) (1.15.0)\n",
            "Installing collected packages: grpcio\n",
            "  Attempting uninstall: grpcio\n",
            "    Found existing installation: grpcio 1.50.0\n",
            "    Uninstalling grpcio-1.50.0:\n",
            "      Successfully uninstalled grpcio-1.50.0\n",
            "\u001b[31mERROR: pip's dependency resolver does not currently take into account all the packages that are installed. This behaviour is the source of the following dependency conflicts.\n",
            "grpcio-status 1.48.2 requires grpcio>=1.48.2, but you have grpcio 1.24.3 which is incompatible.\n",
            "google-cloud-bigquery 3.3.6 requires grpcio<2.0dev,>=1.47.0, but you have grpcio 1.24.3 which is incompatible.\u001b[0m\n",
            "Successfully installed grpcio-1.24.3\n",
            "Looking in indexes: https://pypi.org/simple, https://us-python.pkg.dev/colab-wheels/public/simple/\n",
            "Collecting tensorflow==2.2.0\n",
            "  Downloading tensorflow-2.2.0-cp37-cp37m-manylinux2010_x86_64.whl (516.2 MB)\n",
            "\u001b[K     |████████████████████████████████| 516.2 MB 4.0 kB/s \n",
            "\u001b[?25hCollecting tensorboard<2.3.0,>=2.2.0\n",
            "  Downloading tensorboard-2.2.2-py3-none-any.whl (3.0 MB)\n",
            "\u001b[K     |████████████████████████████████| 3.0 MB 38.8 MB/s \n",
            "\u001b[?25hRequirement already satisfied: absl-py>=0.7.0 in /usr/local/lib/python3.7/dist-packages (from tensorflow==2.2.0) (1.3.0)\n",
            "Requirement already satisfied: opt-einsum>=2.3.2 in /usr/local/lib/python3.7/dist-packages (from tensorflow==2.2.0) (3.3.0)\n",
            "Requirement already satisfied: grpcio>=1.8.6 in /usr/local/lib/python3.7/dist-packages (from tensorflow==2.2.0) (1.24.3)\n",
            "Requirement already satisfied: wrapt>=1.11.1 in /usr/local/lib/python3.7/dist-packages (from tensorflow==2.2.0) (1.14.1)\n",
            "Requirement already satisfied: keras-preprocessing>=1.1.0 in /usr/local/lib/python3.7/dist-packages (from tensorflow==2.2.0) (1.1.2)\n",
            "Requirement already satisfied: termcolor>=1.1.0 in /usr/local/lib/python3.7/dist-packages (from tensorflow==2.2.0) (2.1.0)\n",
            "Collecting tensorflow-estimator<2.3.0,>=2.2.0\n",
            "  Downloading tensorflow_estimator-2.2.0-py2.py3-none-any.whl (454 kB)\n",
            "\u001b[K     |████████████████████████████████| 454 kB 48.2 MB/s \n",
            "\u001b[?25hCollecting gast==0.3.3\n",
            "  Downloading gast-0.3.3-py2.py3-none-any.whl (9.7 kB)\n",
            "Requirement already satisfied: six>=1.12.0 in /usr/local/lib/python3.7/dist-packages (from tensorflow==2.2.0) (1.15.0)\n",
            "Collecting h5py<2.11.0,>=2.10.0\n",
            "  Downloading h5py-2.10.0-cp37-cp37m-manylinux1_x86_64.whl (2.9 MB)\n",
            "\u001b[K     |████████████████████████████████| 2.9 MB 46.1 MB/s \n",
            "\u001b[?25hRequirement already satisfied: numpy<2.0,>=1.16.0 in /usr/local/lib/python3.7/dist-packages (from tensorflow==2.2.0) (1.21.6)\n",
            "Collecting scipy==1.4.1\n",
            "  Downloading scipy-1.4.1-cp37-cp37m-manylinux1_x86_64.whl (26.1 MB)\n",
            "\u001b[K     |████████████████████████████████| 26.1 MB 1.4 MB/s \n",
            "\u001b[?25hRequirement already satisfied: google-pasta>=0.1.8 in /usr/local/lib/python3.7/dist-packages (from tensorflow==2.2.0) (0.2.0)\n",
            "Requirement already satisfied: wheel>=0.26 in /usr/local/lib/python3.7/dist-packages (from tensorflow==2.2.0) (0.38.3)\n",
            "Requirement already satisfied: protobuf>=3.8.0 in /usr/local/lib/python3.7/dist-packages (from tensorflow==2.2.0) (3.19.6)\n",
            "Requirement already satisfied: astunparse==1.6.3 in /usr/local/lib/python3.7/dist-packages (from tensorflow==2.2.0) (1.6.3)\n",
            "Collecting google-auth<2,>=1.6.3\n",
            "  Downloading google_auth-1.35.0-py2.py3-none-any.whl (152 kB)\n",
            "\u001b[K     |████████████████████████████████| 152 kB 58.2 MB/s \n",
            "\u001b[?25hRequirement already satisfied: setuptools>=41.0.0 in /usr/local/lib/python3.7/dist-packages (from tensorboard<2.3.0,>=2.2.0->tensorflow==2.2.0) (57.4.0)\n",
            "Requirement already satisfied: werkzeug>=0.11.15 in /usr/local/lib/python3.7/dist-packages (from tensorboard<2.3.0,>=2.2.0->tensorflow==2.2.0) (1.0.1)\n",
            "Requirement already satisfied: requests<3,>=2.21.0 in /usr/local/lib/python3.7/dist-packages (from tensorboard<2.3.0,>=2.2.0->tensorflow==2.2.0) (2.23.0)\n",
            "Requirement already satisfied: markdown>=2.6.8 in /usr/local/lib/python3.7/dist-packages (from tensorboard<2.3.0,>=2.2.0->tensorflow==2.2.0) (3.4.1)\n",
            "Requirement already satisfied: google-auth-oauthlib<0.5,>=0.4.1 in /usr/local/lib/python3.7/dist-packages (from tensorboard<2.3.0,>=2.2.0->tensorflow==2.2.0) (0.4.6)\n",
            "Requirement already satisfied: tensorboard-plugin-wit>=1.6.0 in /usr/local/lib/python3.7/dist-packages (from tensorboard<2.3.0,>=2.2.0->tensorflow==2.2.0) (1.8.1)\n",
            "Requirement already satisfied: rsa<5,>=3.1.4 in /usr/local/lib/python3.7/dist-packages (from google-auth<2,>=1.6.3->tensorboard<2.3.0,>=2.2.0->tensorflow==2.2.0) (4.9)\n",
            "Requirement already satisfied: pyasn1-modules>=0.2.1 in /usr/local/lib/python3.7/dist-packages (from google-auth<2,>=1.6.3->tensorboard<2.3.0,>=2.2.0->tensorflow==2.2.0) (0.2.8)\n",
            "Collecting cachetools<5.0,>=2.0.0\n",
            "  Downloading cachetools-4.2.4-py3-none-any.whl (10 kB)\n",
            "Requirement already satisfied: requests-oauthlib>=0.7.0 in /usr/local/lib/python3.7/dist-packages (from google-auth-oauthlib<0.5,>=0.4.1->tensorboard<2.3.0,>=2.2.0->tensorflow==2.2.0) (1.3.1)\n",
            "Requirement already satisfied: importlib-metadata>=4.4 in /usr/local/lib/python3.7/dist-packages (from markdown>=2.6.8->tensorboard<2.3.0,>=2.2.0->tensorflow==2.2.0) (4.13.0)\n",
            "Requirement already satisfied: typing-extensions>=3.6.4 in /usr/local/lib/python3.7/dist-packages (from importlib-metadata>=4.4->markdown>=2.6.8->tensorboard<2.3.0,>=2.2.0->tensorflow==2.2.0) (4.1.1)\n",
            "Requirement already satisfied: zipp>=0.5 in /usr/local/lib/python3.7/dist-packages (from importlib-metadata>=4.4->markdown>=2.6.8->tensorboard<2.3.0,>=2.2.0->tensorflow==2.2.0) (3.10.0)\n",
            "Requirement already satisfied: pyasn1<0.5.0,>=0.4.6 in /usr/local/lib/python3.7/dist-packages (from pyasn1-modules>=0.2.1->google-auth<2,>=1.6.3->tensorboard<2.3.0,>=2.2.0->tensorflow==2.2.0) (0.4.8)\n",
            "Requirement already satisfied: idna<3,>=2.5 in /usr/local/lib/python3.7/dist-packages (from requests<3,>=2.21.0->tensorboard<2.3.0,>=2.2.0->tensorflow==2.2.0) (2.10)\n",
            "Requirement already satisfied: certifi>=2017.4.17 in /usr/local/lib/python3.7/dist-packages (from requests<3,>=2.21.0->tensorboard<2.3.0,>=2.2.0->tensorflow==2.2.0) (2022.9.24)\n",
            "Requirement already satisfied: chardet<4,>=3.0.2 in /usr/local/lib/python3.7/dist-packages (from requests<3,>=2.21.0->tensorboard<2.3.0,>=2.2.0->tensorflow==2.2.0) (3.0.4)\n",
            "Requirement already satisfied: urllib3!=1.25.0,!=1.25.1,<1.26,>=1.21.1 in /usr/local/lib/python3.7/dist-packages (from requests<3,>=2.21.0->tensorboard<2.3.0,>=2.2.0->tensorflow==2.2.0) (1.24.3)\n",
            "Requirement already satisfied: oauthlib>=3.0.0 in /usr/local/lib/python3.7/dist-packages (from requests-oauthlib>=0.7.0->google-auth-oauthlib<0.5,>=0.4.1->tensorboard<2.3.0,>=2.2.0->tensorflow==2.2.0) (3.2.2)\n",
            "Installing collected packages: cachetools, google-auth, tensorflow-estimator, tensorboard, scipy, h5py, gast, tensorflow\n",
            "  Attempting uninstall: cachetools\n",
            "    Found existing installation: cachetools 5.2.0\n",
            "    Uninstalling cachetools-5.2.0:\n",
            "      Successfully uninstalled cachetools-5.2.0\n",
            "  Attempting uninstall: google-auth\n",
            "    Found existing installation: google-auth 2.14.1\n",
            "    Uninstalling google-auth-2.14.1:\n",
            "      Successfully uninstalled google-auth-2.14.1\n",
            "  Attempting uninstall: tensorflow-estimator\n",
            "    Found existing installation: tensorflow-estimator 2.9.0\n",
            "    Uninstalling tensorflow-estimator-2.9.0:\n",
            "      Successfully uninstalled tensorflow-estimator-2.9.0\n",
            "  Attempting uninstall: tensorboard\n",
            "    Found existing installation: tensorboard 2.9.1\n",
            "    Uninstalling tensorboard-2.9.1:\n",
            "      Successfully uninstalled tensorboard-2.9.1\n",
            "  Attempting uninstall: scipy\n",
            "    Found existing installation: scipy 1.7.3\n",
            "    Uninstalling scipy-1.7.3:\n",
            "      Successfully uninstalled scipy-1.7.3\n",
            "  Attempting uninstall: h5py\n",
            "    Found existing installation: h5py 3.1.0\n",
            "    Uninstalling h5py-3.1.0:\n",
            "      Successfully uninstalled h5py-3.1.0\n",
            "  Attempting uninstall: gast\n",
            "    Found existing installation: gast 0.4.0\n",
            "    Uninstalling gast-0.4.0:\n",
            "      Successfully uninstalled gast-0.4.0\n",
            "  Attempting uninstall: tensorflow\n",
            "    Found existing installation: tensorflow 2.9.2\n",
            "    Uninstalling tensorflow-2.9.2:\n",
            "      Successfully uninstalled tensorflow-2.9.2\n",
            "\u001b[31mERROR: pip's dependency resolver does not currently take into account all the packages that are installed. This behaviour is the source of the following dependency conflicts.\n",
            "plotnine 0.8.0 requires scipy>=1.5.0, but you have scipy 1.4.1 which is incompatible.\n",
            "jaxlib 0.3.22+cuda11.cudnn805 requires scipy>=1.5, but you have scipy 1.4.1 which is incompatible.\n",
            "jax 0.3.23 requires scipy>=1.5, but you have scipy 1.4.1 which is incompatible.\n",
            "google-cloud-bigquery 3.3.6 requires grpcio<2.0dev,>=1.47.0, but you have grpcio 1.24.3 which is incompatible.\u001b[0m\n",
            "Successfully installed cachetools-4.2.4 gast-0.3.3 google-auth-1.35.0 h5py-2.10.0 scipy-1.4.1 tensorboard-2.2.2 tensorflow-2.2.0 tensorflow-estimator-2.2.0\n"
          ]
        },
        {
          "data": {
            "application/vnd.colab-display-data+json": {
              "pip_warning": {
                "packages": [
                  "google"
                ]
              }
            }
          },
          "metadata": {},
          "output_type": "display_data"
        },
        {
          "name": "stdout",
          "output_type": "stream",
          "text": [
            "Looking in indexes: https://pypi.org/simple, https://us-python.pkg.dev/colab-wheels/public/simple/\n",
            "Requirement already satisfied: pillow in /usr/local/lib/python3.7/dist-packages (7.1.2)\n",
            "Collecting pillow\n",
            "  Downloading Pillow-9.3.0-cp37-cp37m-manylinux_2_17_x86_64.manylinux2014_x86_64.whl (3.2 MB)\n",
            "\u001b[K     |████████████████████████████████| 3.2 MB 4.8 MB/s \n",
            "\u001b[?25hInstalling collected packages: pillow\n",
            "  Attempting uninstall: pillow\n",
            "    Found existing installation: Pillow 7.1.2\n",
            "    Uninstalling Pillow-7.1.2:\n",
            "      Successfully uninstalled Pillow-7.1.2\n",
            "Successfully installed pillow-9.3.0\n"
          ]
        },
        {
          "data": {
            "application/vnd.colab-display-data+json": {
              "pip_warning": {
                "packages": [
                  "PIL"
                ]
              }
            }
          },
          "metadata": {},
          "output_type": "display_data"
        }
      ],
      "source": [
        "!pip install grpcio==1.24.3\n",
        "!pip install tensorflow==2.2.0\n",
        "!pip install -U pillow"
      ]
    },
    {
      "cell_type": "code",
      "execution_count": null,
      "metadata": {
        "id": "QLfT3RoE6HIG"
      },
      "outputs": [],
      "source": [
        "import tensorflow as tf\n",
        "from IPython.display import Markdown, display\n",
        "\n",
        "def printmd(string):\n",
        "    display(Markdown('# <span style=\"color:red\">'+string+'</span>'))\n",
        "\n",
        "\n",
        "if not tf.__version__ == '2.2.0':\n",
        "    printmd('<<<<<!!!!! ERROR !!!! please upgrade to TensorFlow 2.2.0, or restart your Kernel (Kernel->Restart & Clear Output)>>>>>')"
      ]
    },
    {
      "cell_type": "code",
      "execution_count": null,
      "metadata": {
        "id": "_Kai1M8w6L50"
      },
      "outputs": [],
      "source": [
        "import tensorflow as tf\n",
        "import numpy as np\n",
        "\n",
        "from PIL import Image\n",
        "from utils import tile_raster_images\n",
        "import matplotlib.pyplot as plt\n",
        "%matplotlib inline"
      ]
    },
    {
      "cell_type": "code",
      "execution_count": null,
      "metadata": {
        "id": "nqdd4Q8H6Te2"
      },
      "outputs": [],
      "source": [
        "v_bias = tf.Variable(tf.zeros([7]), tf.float32)\n",
        "h_bias = tf.Variable(tf.zeros([2]), tf.float32)"
      ]
    },
    {
      "cell_type": "code",
      "execution_count": null,
      "metadata": {
        "id": "Z_wjTFi06WWr"
      },
      "outputs": [],
      "source": [
        "W = tf.constant(np.random.normal(loc=0.0, scale=1.0, size=(7, 2)).astype(np.float32))"
      ]
    },
    {
      "cell_type": "code",
      "execution_count": null,
      "metadata": {
        "colab": {
          "base_uri": "https://localhost:8080/"
        },
        "id": "FRHAIjt86Y7W",
        "outputId": "ddfd797d-f4a1-4980-9e1f-fd62bec8762e"
      },
      "outputs": [
        {
          "name": "stdout",
          "output_type": "stream",
          "text": [
            "Input:  tf.Tensor([[1. 0. 0. 1. 0. 0. 0.]], shape=(1, 7), dtype=float32)\n",
            "hb:  tf.Tensor([0.1 0.1], shape=(2,), dtype=float32)\n",
            "w:  tf.Tensor(\n",
            "[[-0.7357635  -0.18497574]\n",
            " [ 0.12608348 -0.97040725]\n",
            " [ 0.08327085 -1.0091345 ]\n",
            " [ 0.3242665   0.01870887]\n",
            " [ 0.5329707  -1.0749233 ]\n",
            " [ 0.6376999  -0.6255035 ]\n",
            " [-0.31280252 -0.42863098]], shape=(7, 2), dtype=float32)\n",
            "p(h|v):  tf.Tensor([[0.4227494  0.48343933]], shape=(1, 2), dtype=float32)\n",
            "h0 states: tf.Tensor([[1. 0.]], shape=(1, 2), dtype=float32)\n"
          ]
        }
      ],
      "source": [
        "X = tf.constant([[1.0, 0.0, 0.0, 1.0, 0.0, 0.0, 0.0]], tf.float32)\n",
        "\n",
        "v_state = X\n",
        "print (\"Input: \", v_state)\n",
        "\n",
        "h_bias = tf.constant([0.1, 0.1])\n",
        "print (\"hb: \", h_bias)\n",
        "print (\"w: \", W)\n",
        "\n",
        "# Calculate the probabilities of turning the hidden units on:\n",
        "h_prob = tf.nn.sigmoid(tf.matmul(v_state, W) + h_bias)  #probabilities of the hidden units\n",
        "print (\"p(h|v): \", h_prob)\n",
        "\n",
        "# Draw samples from the distribution:\n",
        "h_state = tf.nn.relu(tf.sign(h_prob - tf.random.uniform(tf.shape(h_prob)))) #states\n",
        "print (\"h0 states:\", h_state)"
      ]
    },
    {
      "cell_type": "code",
      "execution_count": null,
      "metadata": {
        "colab": {
          "base_uri": "https://localhost:8080/"
        },
        "id": "EpMP9yMx6ch0",
        "outputId": "09f6f2d1-df0c-412a-a3e3-7e595c025906"
      },
      "outputs": [
        {
          "name": "stdout",
          "output_type": "stream",
          "text": [
            "b:  tf.Tensor([0.1 0.2 0.1 0.1 0.1 0.2 0.1], shape=(7,), dtype=float32)\n",
            "p(vi∣h):  tf.Tensor(\n",
            "[[0.34620482 0.5808061  0.5456899  0.60450375 0.6531628  0.6979805\n",
            "  0.44699925]], shape=(1, 7), dtype=float32)\n",
            "v probability states:  tf.Tensor([[0. 1. 1. 0. 1. 0. 0.]], shape=(1, 7), dtype=float32)\n"
          ]
        }
      ],
      "source": [
        "vb = tf.constant([0.1, 0.2, 0.1, 0.1, 0.1, 0.2, 0.1])\n",
        "print (\"b: \", vb)\n",
        "v_prob = tf.nn.sigmoid(tf.matmul(h_state, tf.transpose(W)) + vb)\n",
        "print (\"p(vi∣h): \", v_prob)\n",
        "v_state = tf.nn.relu(tf.sign(v_prob - tf.random.uniform(tf.shape(v_prob))))\n",
        "print (\"v probability states: \", v_state)"
      ]
    },
    {
      "cell_type": "code",
      "execution_count": null,
      "metadata": {
        "colab": {
          "base_uri": "https://localhost:8080/"
        },
        "id": "srKAdYF86fjL",
        "outputId": "5a22af26-c5e9-4b0f-9577-c4b15505bc40"
      },
      "outputs": [
        {
          "name": "stdout",
          "output_type": "stream",
          "text": [
            "input X: [[1. 0. 0. 1. 0. 0. 0.]]\n",
            "probablity vector: [0.34620482 0.5808061  0.5456899  0.60450375 0.6531628  0.6979805\n",
            " 0.44699925]\n",
            "probability of generating X:  0.0023087976\n"
          ]
        }
      ],
      "source": [
        "inp = X\n",
        "print(\"input X:\" , inp.numpy())\n",
        "\n",
        "print(\"probablity vector:\" , v_prob[0].numpy())\n",
        "v_probability = 1\n",
        "\n",
        "for elm, p in zip(inp[0],v_prob[0]) :\n",
        "    if elm ==1:\n",
        "        v_probability *= p\n",
        "    else:\n",
        "        v_probability *= (1-p)\n",
        "\n",
        "print(\"probability of generating X: \" , v_probability.numpy())"
      ]
    },
    {
      "cell_type": "code",
      "execution_count": null,
      "metadata": {
        "colab": {
          "base_uri": "https://localhost:8080/"
        },
        "id": "Fezq8ftX6jsx",
        "outputId": "dd743343-ce27-4f32-dd39-d4de9ae660f7"
      },
      "outputs": [
        {
          "name": "stdout",
          "output_type": "stream",
          "text": [
            "Downloading data from https://storage.googleapis.com/tensorflow/tf-keras-datasets/mnist.npz\n",
            "11493376/11490434 [==============================] - 0s 0us/step\n"
          ]
        }
      ],
      "source": [
        "#loading training and test data\n",
        "mnist = tf.keras.datasets.mnist\n",
        "(trX, trY), (teX, teY) = mnist.load_data()\n",
        "\n",
        "# showing an example of the Flatten class and operation\n",
        "from tensorflow.keras.layers import Flatten\n",
        "flatten = Flatten(dtype='float32')\n",
        "trX = flatten(trX/255.0)\n",
        "trY = flatten(trY/255.0)"
      ]
    },
    {
      "cell_type": "code",
      "execution_count": null,
      "metadata": {
        "id": "1o4GJ70B6o7z"
      },
      "outputs": [],
      "source": [
        "vb = tf.Variable(tf.zeros([784]), tf.float32)\n",
        "hb = tf.Variable(tf.zeros([50]), tf.float32)"
      ]
    },
    {
      "cell_type": "code",
      "execution_count": null,
      "metadata": {
        "id": "wlzkpKE06spi"
      },
      "outputs": [],
      "source": [
        "W = tf.Variable(tf.zeros([784,50]), tf.float32)"
      ]
    },
    {
      "cell_type": "code",
      "execution_count": null,
      "metadata": {
        "colab": {
          "base_uri": "https://localhost:8080/"
        },
        "id": "kiblD8DM6uys",
        "outputId": "2a5bef1a-7fe5-47b6-f3bd-793294ed1153"
      },
      "outputs": [
        {
          "data": {
            "text/plain": [
              "<tf.Tensor: shape=(1, 50), dtype=float32, numpy=\n",
              "array([[0., 0., 0., 0., 0., 0., 0., 0., 0., 0., 0., 0., 0., 0., 0., 0.,\n",
              "        0., 0., 0., 0., 0., 0., 0., 0., 0., 0., 0., 0., 0., 0., 0., 0.,\n",
              "        0., 0., 0., 0., 0., 0., 0., 0., 0., 0., 0., 0., 0., 0., 0., 0.,\n",
              "        0., 0.]], dtype=float32)>"
            ]
          },
          "execution_count": 13,
          "metadata": {},
          "output_type": "execute_result"
        }
      ],
      "source": [
        "v0_state = tf.Variable(tf.zeros([784]), tf.float32)\n",
        "\n",
        "#testing to see if the matrix product works\n",
        "tf.matmul( [v0_state], W)"
      ]
    },
    {
      "cell_type": "code",
      "execution_count": null,
      "metadata": {
        "colab": {
          "base_uri": "https://localhost:8080/"
        },
        "id": "4byXtILw6yTG",
        "outputId": "628bc6ab-20b0-423a-90a6-c7fd7f1e8d1e"
      },
      "outputs": [
        {
          "name": "stdout",
          "output_type": "stream",
          "text": [
            "h0_state shape:  tf.Tensor([ 1 50], shape=(2,), dtype=int32)\n",
            "first 15 hidden states:  tf.Tensor([0. 1. 1. 1. 1. 1. 1. 0. 1. 1. 1. 1. 0. 1. 0.], shape=(15,), dtype=float32)\n"
          ]
        }
      ],
      "source": [
        "#computing the hidden nodes probability vector and checking shape\n",
        "h0_prob = tf.nn.sigmoid(tf.matmul([v0_state], W) + hb)  #probabilities of the hidden units\n",
        "print(\"h0_state shape: \" , tf.shape(h0_prob))\n",
        "\n",
        "#defining a function to return only the generated hidden states \n",
        "def hidden_layer(v0_state, W, hb):\n",
        "    h0_prob = tf.nn.sigmoid(tf.matmul([v0_state], W) + hb)  #probabilities of the hidden units\n",
        "    h0_state = tf.nn.relu(tf.sign(h0_prob - tf.random.uniform(tf.shape(h0_prob)))) #sample_h_given_X\n",
        "    return h0_state\n",
        "\n",
        "\n",
        "h0_state = hidden_layer(v0_state, W, hb)\n",
        "print(\"first 15 hidden states: \", h0_state[0][0:15])"
      ]
    },
    {
      "cell_type": "code",
      "execution_count": null,
      "metadata": {
        "colab": {
          "base_uri": "https://localhost:8080/"
        },
        "id": "ie_sBScm7PmS",
        "outputId": "ecfb6c81-b985-4cbc-c9cd-dcfc95cdcb07"
      },
      "outputs": [
        {
          "name": "stdout",
          "output_type": "stream",
          "text": [
            "hidden state shape:  (1, 50)\n",
            "v0 state shape:   (784,)\n",
            "v1 state shape:   (784,)\n"
          ]
        }
      ],
      "source": [
        "def reconstructed_output(h0_state, W, vb):\n",
        "    v1_prob = tf.nn.sigmoid(tf.matmul(h0_state, tf.transpose(W)) + vb) \n",
        "    v1_state = tf.nn.relu(tf.sign(v1_prob - tf.random.uniform(tf.shape(v1_prob)))) #sample_v_given_h\n",
        "    return v1_state[0]\n",
        "\n",
        "v1_state = reconstructed_output(h0_state, W, vb)\n",
        "print(\"hidden state shape: \", h0_state.shape)\n",
        "print(\"v0 state shape:  \", v0_state.shape)\n",
        "print(\"v1 state shape:  \", v1_state.shape)"
      ]
    },
    {
      "cell_type": "code",
      "execution_count": null,
      "metadata": {
        "colab": {
          "base_uri": "https://localhost:8080/"
        },
        "id": "ZwJulgXE7Vgk",
        "outputId": "709150ee-b75b-4e52-d70b-8951a1cb1a64"
      },
      "outputs": [
        {
          "name": "stdout",
          "output_type": "stream",
          "text": [
            "error 0.49744898\n"
          ]
        }
      ],
      "source": [
        "def error(v0_state, v1_state):\n",
        "    return tf.reduce_mean(tf.square(v0_state - v1_state))\n",
        "\n",
        "err = tf.reduce_mean(tf.square(v0_state - v1_state))\n",
        "print(\"error\" , err.numpy())"
      ]
    },
    {
      "cell_type": "code",
      "execution_count": null,
      "metadata": {
        "id": "X__u6fkU7Z5_"
      },
      "outputs": [],
      "source": [
        "h1_prob = tf.nn.sigmoid(tf.matmul([v1_state], W) + hb)\n",
        "h1_state = tf.nn.relu(tf.sign(h1_prob - tf.random.uniform(tf.shape(h1_prob)))) #sample_h_given_X"
      ]
    },
    {
      "cell_type": "code",
      "execution_count": null,
      "metadata": {
        "colab": {
          "base_uri": "https://localhost:8080/"
        },
        "id": "imcUMQv37eJT",
        "outputId": "78ef7b08-7216-413f-eeb8-bfdcfc4c8b4c"
      },
      "outputs": [
        {
          "name": "stdout",
          "output_type": "stream",
          "text": [
            "error:  tf.Tensor(0.49744898, shape=(), dtype=float32)\n"
          ]
        }
      ],
      "source": [
        "print(\"error: \", error(v0_state, v1_state))"
      ]
    },
    {
      "cell_type": "code",
      "execution_count": null,
      "metadata": {
        "colab": {
          "background_save": true,
          "base_uri": "https://localhost:8080/"
        },
        "id": "epqBew4S7hye",
        "outputId": "62569b22-d49f-4b05-f882-af08cd68c0c1"
      },
      "outputs": [
        {
          "name": "stdout",
          "output_type": "stream",
          "text": [
            "Epoch: 0 batch #: 1  of 300 sample #: 199 reconstruction error: 0.152574\n",
            "Epoch: 0 batch #: 2  of 300 sample #: 199 reconstruction error: 0.221986\n",
            "Epoch: 0 batch #: 3  of 300 sample #: 199 reconstruction error: 0.107254\n",
            "Epoch: 0 batch #: 4  of 300 sample #: 199 reconstruction error: 0.116468\n",
            "Epoch: 0 batch #: 5  of 300 sample #: 199 reconstruction error: 0.109477\n",
            "Epoch: 0 batch #: 6  of 300 sample #: 199 reconstruction error: 0.193607\n",
            "Epoch: 0 batch #: 7  of 300 sample #: 199 reconstruction error: 0.093616\n",
            "Epoch: 0 batch #: 8  of 300 sample #: 199 reconstruction error: 0.113511\n",
            "Epoch: 0 batch #: 9  of 300 sample #: 199 reconstruction error: 0.115218\n",
            "Epoch: 0 batch #: 10  of 300 sample #: 199 reconstruction error: 0.149656\n",
            "Epoch: 0 batch #: 11  of 300 sample #: 199 reconstruction error: 0.097478\n",
            "Epoch: 0 batch #: 12  of 300 sample #: 199 reconstruction error: 0.136996\n",
            "Epoch: 0 batch #: 13  of 300 sample #: 199 reconstruction error: 0.073642\n",
            "Epoch: 0 batch #: 14  of 300 sample #: 199 reconstruction error: 0.113692\n",
            "Epoch: 0 batch #: 15  of 300 sample #: 199 reconstruction error: 0.104943\n",
            "Epoch: 0 batch #: 16  of 300 sample #: 199 reconstruction error: 0.093402\n",
            "Epoch: 0 batch #: 17  of 300 sample #: 199 reconstruction error: 0.074692\n",
            "Epoch: 0 batch #: 18  of 300 sample #: 199 reconstruction error: 0.131879\n",
            "Epoch: 0 batch #: 19  of 300 sample #: 199 reconstruction error: 0.142041\n",
            "Epoch: 0 batch #: 20  of 300 sample #: 199 reconstruction error: 0.099990\n",
            "Epoch: 0 batch #: 21  of 300 sample #: 199 reconstruction error: 0.084536\n",
            "Epoch: 0 batch #: 22  of 300 sample #: 199 reconstruction error: 0.073862\n",
            "Epoch: 0 batch #: 23  of 300 sample #: 199 reconstruction error: 0.110089\n",
            "Epoch: 0 batch #: 24  of 300 sample #: 199 reconstruction error: 0.144982\n",
            "Epoch: 0 batch #: 25  of 300 sample #: 199 reconstruction error: 0.105117\n",
            "Epoch: 0 batch #: 26  of 300 sample #: 199 reconstruction error: 0.097846\n",
            "Epoch: 0 batch #: 27  of 300 sample #: 199 reconstruction error: 0.099729\n",
            "Epoch: 0 batch #: 28  of 300 sample #: 199 reconstruction error: 0.095040\n",
            "Epoch: 0 batch #: 29  of 300 sample #: 199 reconstruction error: 0.109394\n",
            "Epoch: 0 batch #: 30  of 300 sample #: 199 reconstruction error: 0.073332\n",
            "Epoch: 0 batch #: 31  of 300 sample #: 199 reconstruction error: 0.095635\n",
            "Epoch: 0 batch #: 32  of 300 sample #: 199 reconstruction error: 0.098396\n",
            "Epoch: 0 batch #: 33  of 300 sample #: 199 reconstruction error: 0.067141\n",
            "Epoch: 0 batch #: 34  of 300 sample #: 199 reconstruction error: 0.061390\n",
            "Epoch: 0 batch #: 35  of 300 sample #: 199 reconstruction error: 0.081568\n",
            "Epoch: 0 batch #: 36  of 300 sample #: 199 reconstruction error: 0.080487\n",
            "Epoch: 0 batch #: 37  of 300 sample #: 199 reconstruction error: 0.053690\n",
            "Epoch: 0 batch #: 38  of 300 sample #: 199 reconstruction error: 0.063580\n",
            "Epoch: 0 batch #: 39  of 300 sample #: 199 reconstruction error: 0.099780\n",
            "Epoch: 0 batch #: 40  of 300 sample #: 199 reconstruction error: 0.119432\n",
            "Epoch: 0 batch #: 41  of 300 sample #: 199 reconstruction error: 0.062592\n",
            "Epoch: 0 batch #: 42  of 300 sample #: 199 reconstruction error: 0.068866\n",
            "Epoch: 0 batch #: 43  of 300 sample #: 199 reconstruction error: 0.116330\n",
            "Epoch: 0 batch #: 44  of 300 sample #: 199 reconstruction error: 0.061631\n",
            "Epoch: 0 batch #: 45  of 300 sample #: 199 reconstruction error: 0.050438\n",
            "Epoch: 0 batch #: 46  of 300 sample #: 199 reconstruction error: 0.036503\n",
            "Epoch: 0 batch #: 47  of 300 sample #: 199 reconstruction error: 0.038104\n",
            "Epoch: 0 batch #: 48  of 300 sample #: 199 reconstruction error: 0.042852\n",
            "Epoch: 0 batch #: 49  of 300 sample #: 199 reconstruction error: 0.135677\n",
            "Epoch: 0 batch #: 50  of 300 sample #: 199 reconstruction error: 0.060987\n",
            "Epoch: 0 batch #: 51  of 300 sample #: 199 reconstruction error: 0.069688\n",
            "Epoch: 0 batch #: 52  of 300 sample #: 199 reconstruction error: 0.031594\n",
            "Epoch: 0 batch #: 53  of 300 sample #: 199 reconstruction error: 0.100195\n",
            "Epoch: 0 batch #: 54  of 300 sample #: 199 reconstruction error: 0.050133\n",
            "Epoch: 0 batch #: 55  of 300 sample #: 199 reconstruction error: 0.110820\n",
            "Epoch: 0 batch #: 56  of 300 sample #: 199 reconstruction error: 0.058897\n",
            "Epoch: 0 batch #: 57  of 300 sample #: 199 reconstruction error: 0.048985\n",
            "Epoch: 0 batch #: 58  of 300 sample #: 199 reconstruction error: 0.068860\n",
            "Epoch: 0 batch #: 59  of 300 sample #: 199 reconstruction error: 0.059687\n",
            "Epoch: 0 batch #: 60  of 300 sample #: 199 reconstruction error: 0.098951\n",
            "Epoch: 0 batch #: 61  of 300 sample #: 199 reconstruction error: 0.086499\n",
            "Epoch: 0 batch #: 62  of 300 sample #: 199 reconstruction error: 0.094729\n",
            "Epoch: 0 batch #: 63  of 300 sample #: 199 reconstruction error: 0.056892\n",
            "Epoch: 0 batch #: 64  of 300 sample #: 199 reconstruction error: 0.081096\n",
            "Epoch: 0 batch #: 65  of 300 sample #: 199 reconstruction error: 0.077331\n",
            "Epoch: 0 batch #: 66  of 300 sample #: 199 reconstruction error: 0.070835\n",
            "Epoch: 0 batch #: 67  of 300 sample #: 199 reconstruction error: 0.053631\n",
            "Epoch: 0 batch #: 68  of 300 sample #: 199 reconstruction error: 0.062553\n",
            "Epoch: 0 batch #: 69  of 300 sample #: 199 reconstruction error: 0.094162\n",
            "Epoch: 0 batch #: 70  of 300 sample #: 199 reconstruction error: 0.082433\n",
            "Epoch: 0 batch #: 71  of 300 sample #: 199 reconstruction error: 0.063685\n",
            "Epoch: 0 batch #: 72  of 300 sample #: 199 reconstruction error: 0.067568\n",
            "Epoch: 0 batch #: 73  of 300 sample #: 199 reconstruction error: 0.089980\n",
            "Epoch: 0 batch #: 74  of 300 sample #: 199 reconstruction error: 0.095514\n",
            "Epoch: 0 batch #: 75  of 300 sample #: 199 reconstruction error: 0.047072\n",
            "Epoch: 0 batch #: 76  of 300 sample #: 199 reconstruction error: 0.081998\n",
            "Epoch: 0 batch #: 77  of 300 sample #: 199 reconstruction error: 0.102529\n",
            "Epoch: 0 batch #: 78  of 300 sample #: 199 reconstruction error: 0.098307\n",
            "Epoch: 0 batch #: 79  of 300 sample #: 199 reconstruction error: 0.091060\n",
            "Epoch: 0 batch #: 80  of 300 sample #: 199 reconstruction error: 0.034932\n",
            "Epoch: 0 batch #: 81  of 300 sample #: 199 reconstruction error: 0.050749\n",
            "Epoch: 0 batch #: 82  of 300 sample #: 199 reconstruction error: 0.043406\n",
            "Epoch: 0 batch #: 83  of 300 sample #: 199 reconstruction error: 0.069342\n",
            "Epoch: 0 batch #: 84  of 300 sample #: 199 reconstruction error: 0.089437\n",
            "Epoch: 0 batch #: 85  of 300 sample #: 199 reconstruction error: 0.055887\n",
            "Epoch: 0 batch #: 86  of 300 sample #: 199 reconstruction error: 0.090176\n",
            "Epoch: 0 batch #: 87  of 300 sample #: 199 reconstruction error: 0.080772\n",
            "Epoch: 0 batch #: 88  of 300 sample #: 199 reconstruction error: 0.025120\n",
            "Epoch: 0 batch #: 89  of 300 sample #: 199 reconstruction error: 0.062435\n",
            "Epoch: 0 batch #: 90  of 300 sample #: 199 reconstruction error: 0.084208\n",
            "Epoch: 0 batch #: 91  of 300 sample #: 199 reconstruction error: 0.053948\n",
            "Epoch: 0 batch #: 92  of 300 sample #: 199 reconstruction error: 0.077253\n",
            "Epoch: 0 batch #: 93  of 300 sample #: 199 reconstruction error: 0.104673\n",
            "Epoch: 0 batch #: 94  of 300 sample #: 199 reconstruction error: 0.119277\n",
            "Epoch: 0 batch #: 95  of 300 sample #: 199 reconstruction error: 0.075144\n",
            "Epoch: 0 batch #: 96  of 300 sample #: 199 reconstruction error: 0.053370\n",
            "Epoch: 0 batch #: 97  of 300 sample #: 199 reconstruction error: 0.113508\n",
            "Epoch: 0 batch #: 98  of 300 sample #: 199 reconstruction error: 0.074358\n",
            "Epoch: 0 batch #: 99  of 300 sample #: 199 reconstruction error: 0.083346\n",
            "Epoch: 0 batch #: 100  of 300 sample #: 199 reconstruction error: 0.101710\n",
            "Epoch: 0 batch #: 101  of 300 sample #: 199 reconstruction error: 0.078154\n",
            "Epoch: 0 batch #: 102  of 300 sample #: 199 reconstruction error: 0.071918\n",
            "Epoch: 0 batch #: 103  of 300 sample #: 199 reconstruction error: 0.076394\n",
            "Epoch: 0 batch #: 104  of 300 sample #: 199 reconstruction error: 0.068341\n",
            "Epoch: 0 batch #: 105  of 300 sample #: 199 reconstruction error: 0.053383\n",
            "Epoch: 0 batch #: 106  of 300 sample #: 199 reconstruction error: 0.117266\n",
            "Epoch: 0 batch #: 107  of 300 sample #: 199 reconstruction error: 0.155205\n",
            "Epoch: 0 batch #: 108  of 300 sample #: 199 reconstruction error: 0.070092\n",
            "Epoch: 0 batch #: 109  of 300 sample #: 199 reconstruction error: 0.092383\n",
            "Epoch: 0 batch #: 110  of 300 sample #: 199 reconstruction error: 0.058476\n",
            "Epoch: 0 batch #: 111  of 300 sample #: 199 reconstruction error: 0.099816\n",
            "Epoch: 0 batch #: 112  of 300 sample #: 199 reconstruction error: 0.044932\n",
            "Epoch: 0 batch #: 113  of 300 sample #: 199 reconstruction error: 0.069637\n",
            "Epoch: 0 batch #: 114  of 300 sample #: 199 reconstruction error: 0.071128\n",
            "Epoch: 0 batch #: 115  of 300 sample #: 199 reconstruction error: 0.047021\n",
            "Epoch: 0 batch #: 116  of 300 sample #: 199 reconstruction error: 0.058798\n",
            "Epoch: 0 batch #: 117  of 300 sample #: 199 reconstruction error: 0.035409\n",
            "Epoch: 0 batch #: 118  of 300 sample #: 199 reconstruction error: 0.067083\n",
            "Epoch: 0 batch #: 119  of 300 sample #: 199 reconstruction error: 0.124859\n",
            "Epoch: 0 batch #: 120  of 300 sample #: 199 reconstruction error: 0.091462\n",
            "Epoch: 0 batch #: 121  of 300 sample #: 199 reconstruction error: 0.035280\n",
            "Epoch: 0 batch #: 122  of 300 sample #: 199 reconstruction error: 0.088427\n",
            "Epoch: 0 batch #: 123  of 300 sample #: 199 reconstruction error: 0.054214\n",
            "Epoch: 0 batch #: 124  of 300 sample #: 199 reconstruction error: 0.069207\n",
            "Epoch: 0 batch #: 125  of 300 sample #: 199 reconstruction error: 0.046442\n",
            "Epoch: 0 batch #: 126  of 300 sample #: 199 reconstruction error: 0.084747\n",
            "Epoch: 0 batch #: 127  of 300 sample #: 199 reconstruction error: 0.088184\n",
            "Epoch: 0 batch #: 128  of 300 sample #: 199 reconstruction error: 0.065691\n",
            "Epoch: 0 batch #: 129  of 300 sample #: 199 reconstruction error: 0.040246\n",
            "Epoch: 0 batch #: 130  of 300 sample #: 199 reconstruction error: 0.085388\n",
            "Epoch: 0 batch #: 131  of 300 sample #: 199 reconstruction error: 0.070035\n",
            "Epoch: 0 batch #: 132  of 300 sample #: 199 reconstruction error: 0.054734\n",
            "Epoch: 0 batch #: 133  of 300 sample #: 199 reconstruction error: 0.057921\n",
            "Epoch: 0 batch #: 134  of 300 sample #: 199 reconstruction error: 0.109798\n",
            "Epoch: 0 batch #: 135  of 300 sample #: 199 reconstruction error: 0.092888\n",
            "Epoch: 0 batch #: 136  of 300 sample #: 199 reconstruction error: 0.098418\n",
            "Epoch: 0 batch #: 137  of 300 sample #: 199 reconstruction error: 0.069821\n",
            "Epoch: 0 batch #: 138  of 300 sample #: 199 reconstruction error: 0.077714\n",
            "Epoch: 0 batch #: 139  of 300 sample #: 199 reconstruction error: 0.118588\n",
            "Epoch: 0 batch #: 140  of 300 sample #: 199 reconstruction error: 0.078892\n",
            "Epoch: 0 batch #: 141  of 300 sample #: 199 reconstruction error: 0.094755\n",
            "Epoch: 0 batch #: 142  of 300 sample #: 199 reconstruction error: 0.060911\n",
            "Epoch: 0 batch #: 143  of 300 sample #: 199 reconstruction error: 0.070207\n",
            "Epoch: 0 batch #: 144  of 300 sample #: 199 reconstruction error: 0.067558\n",
            "Epoch: 0 batch #: 145  of 300 sample #: 199 reconstruction error: 0.100029\n",
            "Epoch: 0 batch #: 146  of 300 sample #: 199 reconstruction error: 0.113319\n",
            "Epoch: 0 batch #: 147  of 300 sample #: 199 reconstruction error: 0.079119\n",
            "Epoch: 0 batch #: 148  of 300 sample #: 199 reconstruction error: 0.068182\n",
            "Epoch: 0 batch #: 149  of 300 sample #: 199 reconstruction error: 0.052085\n",
            "Epoch: 0 batch #: 150  of 300 sample #: 199 reconstruction error: 0.049237\n",
            "Epoch: 0 batch #: 151  of 300 sample #: 199 reconstruction error: 0.093376\n",
            "Epoch: 0 batch #: 152  of 300 sample #: 199 reconstruction error: 0.097065\n",
            "Epoch: 0 batch #: 153  of 300 sample #: 199 reconstruction error: 0.063814\n",
            "Epoch: 0 batch #: 154  of 300 sample #: 199 reconstruction error: 0.064999\n",
            "Epoch: 0 batch #: 155  of 300 sample #: 199 reconstruction error: 0.052744\n",
            "Epoch: 0 batch #: 156  of 300 sample #: 199 reconstruction error: 0.086761\n",
            "Epoch: 0 batch #: 157  of 300 sample #: 199 reconstruction error: 0.088912\n",
            "Epoch: 0 batch #: 158  of 300 sample #: 199 reconstruction error: 0.062146\n",
            "Epoch: 0 batch #: 159  of 300 sample #: 199 reconstruction error: 0.059937\n",
            "Epoch: 0 batch #: 160  of 300 sample #: 199 reconstruction error: 0.081597\n",
            "Epoch: 0 batch #: 161  of 300 sample #: 199 reconstruction error: 0.085291\n",
            "Epoch: 0 batch #: 162  of 300 sample #: 199 reconstruction error: 0.104670\n",
            "Epoch: 0 batch #: 163  of 300 sample #: 199 reconstruction error: 0.048720\n",
            "Epoch: 0 batch #: 164  of 300 sample #: 199 reconstruction error: 0.068772\n",
            "Epoch: 0 batch #: 165  of 300 sample #: 199 reconstruction error: 0.070461\n",
            "Epoch: 0 batch #: 166  of 300 sample #: 199 reconstruction error: 0.067528\n",
            "Epoch: 0 batch #: 167  of 300 sample #: 199 reconstruction error: 0.091461\n",
            "Epoch: 0 batch #: 168  of 300 sample #: 199 reconstruction error: 0.045430\n",
            "Epoch: 0 batch #: 169  of 300 sample #: 199 reconstruction error: 0.035415\n",
            "Epoch: 0 batch #: 170  of 300 sample #: 199 reconstruction error: 0.062705\n",
            "Epoch: 0 batch #: 171  of 300 sample #: 199 reconstruction error: 0.034792\n",
            "Epoch: 0 batch #: 172  of 300 sample #: 199 reconstruction error: 0.049902\n",
            "Epoch: 0 batch #: 173  of 300 sample #: 199 reconstruction error: 0.084984\n",
            "Epoch: 0 batch #: 174  of 300 sample #: 199 reconstruction error: 0.122974\n",
            "Epoch: 0 batch #: 175  of 300 sample #: 199 reconstruction error: 0.064410\n",
            "Epoch: 0 batch #: 176  of 300 sample #: 199 reconstruction error: 0.039529\n",
            "Epoch: 0 batch #: 177  of 300 sample #: 199 reconstruction error: 0.031895\n",
            "Epoch: 0 batch #: 178  of 300 sample #: 199 reconstruction error: 0.094121\n",
            "Epoch: 0 batch #: 179  of 300 sample #: 199 reconstruction error: 0.076660\n",
            "Epoch: 0 batch #: 180  of 300 sample #: 199 reconstruction error: 0.084101\n",
            "Epoch: 0 batch #: 181  of 300 sample #: 199 reconstruction error: 0.093727\n",
            "Epoch: 0 batch #: 182  of 300 sample #: 199 reconstruction error: 0.074040\n",
            "Epoch: 0 batch #: 183  of 300 sample #: 199 reconstruction error: 0.110895\n",
            "Epoch: 0 batch #: 184  of 300 sample #: 199 reconstruction error: 0.073792\n",
            "Epoch: 0 batch #: 185  of 300 sample #: 199 reconstruction error: 0.096528\n",
            "Epoch: 0 batch #: 186  of 300 sample #: 199 reconstruction error: 0.093500\n",
            "Epoch: 0 batch #: 187  of 300 sample #: 199 reconstruction error: 0.039056\n",
            "Epoch: 0 batch #: 188  of 300 sample #: 199 reconstruction error: 0.104987\n",
            "Epoch: 0 batch #: 189  of 300 sample #: 199 reconstruction error: 0.080568\n",
            "Epoch: 0 batch #: 190  of 300 sample #: 199 reconstruction error: 0.059116\n",
            "Epoch: 0 batch #: 191  of 300 sample #: 199 reconstruction error: 0.138801\n",
            "Epoch: 0 batch #: 192  of 300 sample #: 199 reconstruction error: 0.122320\n",
            "Epoch: 0 batch #: 193  of 300 sample #: 199 reconstruction error: 0.096221\n",
            "Epoch: 0 batch #: 194  of 300 sample #: 199 reconstruction error: 0.078299\n",
            "Epoch: 0 batch #: 195  of 300 sample #: 199 reconstruction error: 0.052851\n",
            "Epoch: 0 batch #: 196  of 300 sample #: 199 reconstruction error: 0.046063\n",
            "Epoch: 0 batch #: 197  of 300 sample #: 199 reconstruction error: 0.039814\n",
            "Epoch: 0 batch #: 198  of 300 sample #: 199 reconstruction error: 0.093835\n",
            "Epoch: 0 batch #: 199  of 300 sample #: 199 reconstruction error: 0.075737\n",
            "Epoch: 0 batch #: 200  of 300 sample #: 199 reconstruction error: 0.102036\n",
            "Epoch: 0 batch #: 201  of 300 sample #: 199 reconstruction error: 0.091748\n",
            "Epoch: 0 batch #: 202  of 300 sample #: 199 reconstruction error: 0.026808\n",
            "Epoch: 0 batch #: 203  of 300 sample #: 199 reconstruction error: 0.079237\n",
            "Epoch: 0 batch #: 204  of 300 sample #: 199 reconstruction error: 0.052555\n",
            "Epoch: 0 batch #: 205  of 300 sample #: 199 reconstruction error: 0.023366\n",
            "Epoch: 0 batch #: 206  of 300 sample #: 199 reconstruction error: 0.068929\n",
            "Epoch: 0 batch #: 207  of 300 sample #: 199 reconstruction error: 0.078787\n",
            "Epoch: 0 batch #: 208  of 300 sample #: 199 reconstruction error: 0.064064\n",
            "Epoch: 0 batch #: 209  of 300 sample #: 199 reconstruction error: 0.038809\n",
            "Epoch: 0 batch #: 210  of 300 sample #: 199 reconstruction error: 0.111527\n",
            "Epoch: 0 batch #: 211  of 300 sample #: 199 reconstruction error: 0.093035\n",
            "Epoch: 0 batch #: 212  of 300 sample #: 199 reconstruction error: 0.074168\n",
            "Epoch: 0 batch #: 213  of 300 sample #: 199 reconstruction error: 0.100018\n",
            "Epoch: 0 batch #: 214  of 300 sample #: 199 reconstruction error: 0.088333\n",
            "Epoch: 0 batch #: 215  of 300 sample #: 199 reconstruction error: 0.040061\n",
            "Epoch: 0 batch #: 216  of 300 sample #: 199 reconstruction error: 0.088137\n",
            "Epoch: 0 batch #: 217  of 300 sample #: 199 reconstruction error: 0.092971\n",
            "Epoch: 0 batch #: 218  of 300 sample #: 199 reconstruction error: 0.058738\n",
            "Epoch: 0 batch #: 219  of 300 sample #: 199 reconstruction error: 0.072802\n",
            "Epoch: 0 batch #: 220  of 300 sample #: 199 reconstruction error: 0.058625\n",
            "Epoch: 0 batch #: 221  of 300 sample #: 199 reconstruction error: 0.112143\n",
            "Epoch: 0 batch #: 222  of 300 sample #: 199 reconstruction error: 0.096230\n",
            "Epoch: 0 batch #: 223  of 300 sample #: 199 reconstruction error: 0.087064\n",
            "Epoch: 0 batch #: 224  of 300 sample #: 199 reconstruction error: 0.058169\n",
            "Epoch: 0 batch #: 225  of 300 sample #: 199 reconstruction error: 0.077366\n",
            "Epoch: 0 batch #: 226  of 300 sample #: 199 reconstruction error: 0.130718\n",
            "Epoch: 0 batch #: 227  of 300 sample #: 199 reconstruction error: 0.075255\n",
            "Epoch: 0 batch #: 228  of 300 sample #: 199 reconstruction error: 0.068656\n",
            "Epoch: 0 batch #: 229  of 300 sample #: 199 reconstruction error: 0.072423\n",
            "Epoch: 0 batch #: 230  of 300 sample #: 199 reconstruction error: 0.035114\n",
            "Epoch: 0 batch #: 231  of 300 sample #: 199 reconstruction error: 0.034208\n",
            "Epoch: 0 batch #: 232  of 300 sample #: 199 reconstruction error: 0.076957\n",
            "Epoch: 0 batch #: 233  of 300 sample #: 199 reconstruction error: 0.083165\n",
            "Epoch: 0 batch #: 234  of 300 sample #: 199 reconstruction error: 0.059405\n",
            "Epoch: 0 batch #: 235  of 300 sample #: 199 reconstruction error: 0.070535\n",
            "Epoch: 0 batch #: 236  of 300 sample #: 199 reconstruction error: 0.089112\n",
            "Epoch: 0 batch #: 237  of 300 sample #: 199 reconstruction error: 0.078389\n",
            "Epoch: 0 batch #: 238  of 300 sample #: 199 reconstruction error: 0.114915\n",
            "Epoch: 0 batch #: 239  of 300 sample #: 199 reconstruction error: 0.023183\n",
            "Epoch: 0 batch #: 240  of 300 sample #: 199 reconstruction error: 0.108816\n",
            "Epoch: 0 batch #: 241  of 300 sample #: 199 reconstruction error: 0.068780\n",
            "Epoch: 0 batch #: 242  of 300 sample #: 199 reconstruction error: 0.066408\n",
            "Epoch: 0 batch #: 243  of 300 sample #: 199 reconstruction error: 0.072721\n",
            "Epoch: 0 batch #: 244  of 300 sample #: 199 reconstruction error: 0.086330\n",
            "Epoch: 0 batch #: 245  of 300 sample #: 199 reconstruction error: 0.059062\n",
            "Epoch: 0 batch #: 246  of 300 sample #: 199 reconstruction error: 0.094462\n",
            "Epoch: 0 batch #: 247  of 300 sample #: 199 reconstruction error: 0.058925\n",
            "Epoch: 0 batch #: 248  of 300 sample #: 199 reconstruction error: 0.065496\n",
            "Epoch: 0 batch #: 249  of 300 sample #: 199 reconstruction error: 0.041764\n",
            "Epoch: 0 batch #: 250  of 300 sample #: 199 reconstruction error: 0.087041\n",
            "Epoch: 0 batch #: 251  of 300 sample #: 199 reconstruction error: 0.053258\n",
            "Epoch: 0 batch #: 252  of 300 sample #: 199 reconstruction error: 0.071147\n",
            "Epoch: 0 batch #: 253  of 300 sample #: 199 reconstruction error: 0.062808\n",
            "Epoch: 0 batch #: 254  of 300 sample #: 199 reconstruction error: 0.024451\n",
            "Epoch: 0 batch #: 255  of 300 sample #: 199 reconstruction error: 0.057578\n",
            "Epoch: 0 batch #: 256  of 300 sample #: 199 reconstruction error: 0.078125\n",
            "Epoch: 0 batch #: 257  of 300 sample #: 199 reconstruction error: 0.091869\n",
            "Epoch: 0 batch #: 258  of 300 sample #: 199 reconstruction error: 0.095581\n",
            "Epoch: 0 batch #: 259  of 300 sample #: 199 reconstruction error: 0.086658\n",
            "Epoch: 0 batch #: 260  of 300 sample #: 199 reconstruction error: 0.093817\n",
            "Epoch: 0 batch #: 261  of 300 sample #: 199 reconstruction error: 0.035632\n",
            "Epoch: 0 batch #: 262  of 300 sample #: 199 reconstruction error: 0.055794\n",
            "Epoch: 0 batch #: 263  of 300 sample #: 199 reconstruction error: 0.085460\n",
            "Epoch: 0 batch #: 264  of 300 sample #: 199 reconstruction error: 0.073329\n",
            "Epoch: 0 batch #: 265  of 300 sample #: 199 reconstruction error: 0.047229\n",
            "Epoch: 0 batch #: 266  of 300 sample #: 199 reconstruction error: 0.034823\n",
            "Epoch: 0 batch #: 267  of 300 sample #: 199 reconstruction error: 0.062734\n",
            "Epoch: 0 batch #: 268  of 300 sample #: 199 reconstruction error: 0.025470\n",
            "Epoch: 0 batch #: 269  of 300 sample #: 199 reconstruction error: 0.087487\n",
            "Epoch: 0 batch #: 270  of 300 sample #: 199 reconstruction error: 0.076854\n",
            "Epoch: 0 batch #: 271  of 300 sample #: 199 reconstruction error: 0.056378\n",
            "Epoch: 0 batch #: 272  of 300 sample #: 199 reconstruction error: 0.052497\n",
            "Epoch: 0 batch #: 273  of 300 sample #: 199 reconstruction error: 0.043278\n",
            "Epoch: 0 batch #: 274  of 300 sample #: 199 reconstruction error: 0.043622\n",
            "Epoch: 0 batch #: 275  of 300 sample #: 199 reconstruction error: 0.092368\n",
            "Epoch: 0 batch #: 276  of 300 sample #: 199 reconstruction error: 0.077268\n",
            "Epoch: 0 batch #: 277  of 300 sample #: 199 reconstruction error: 0.069097\n",
            "Epoch: 0 batch #: 278  of 300 sample #: 199 reconstruction error: 0.055728\n",
            "Epoch: 0 batch #: 279  of 300 sample #: 199 reconstruction error: 0.049150\n",
            "Epoch: 0 batch #: 280  of 300 sample #: 199 reconstruction error: 0.068055\n",
            "Epoch: 0 batch #: 281  of 300 sample #: 199 reconstruction error: 0.070588\n",
            "Epoch: 0 batch #: 282  of 300 sample #: 199 reconstruction error: 0.099168\n",
            "Epoch: 0 batch #: 283  of 300 sample #: 199 reconstruction error: 0.049338\n",
            "Epoch: 0 batch #: 284  of 300 sample #: 199 reconstruction error: 0.053934\n",
            "Epoch: 0 batch #: 285  of 300 sample #: 199 reconstruction error: 0.072413\n",
            "Epoch: 0 batch #: 286  of 300 sample #: 199 reconstruction error: 0.078597\n",
            "Epoch: 0 batch #: 287  of 300 sample #: 199 reconstruction error: 0.067973\n",
            "Epoch: 0 batch #: 288  of 300 sample #: 199 reconstruction error: 0.023711\n",
            "Epoch: 0 batch #: 289  of 300 sample #: 199 reconstruction error: 0.076528\n",
            "Epoch: 0 batch #: 290  of 300 sample #: 199 reconstruction error: 0.096678\n",
            "Epoch: 0 batch #: 291  of 300 sample #: 199 reconstruction error: 0.088935\n",
            "Epoch: 0 batch #: 292  of 300 sample #: 199 reconstruction error: 0.068011\n",
            "Epoch: 0 batch #: 293  of 300 sample #: 199 reconstruction error: 0.057085\n",
            "Epoch: 0 batch #: 294  of 300 sample #: 199 reconstruction error: 0.091655\n",
            "Epoch: 0 batch #: 295  of 300 sample #: 199 reconstruction error: 0.059156\n",
            "Epoch: 0 batch #: 296  of 300 sample #: 199 reconstruction error: 0.026863\n",
            "Epoch: 0 batch #: 297  of 300 sample #: 199 reconstruction error: 0.125465\n",
            "Epoch: 0 batch #: 298  of 300 sample #: 199 reconstruction error: 0.054598\n",
            "Epoch: 0 batch #: 299  of 300 sample #: 199 reconstruction error: 0.041027\n",
            "Epoch: 0 batch #: 300  of 300 sample #: 199 reconstruction error: 0.093809\n"
          ]
        }
      ],
      "source": [
        "#Parameters\n",
        "alpha = 0.01\n",
        "epochs = 1\n",
        "batchsize = 200\n",
        "weights = []\n",
        "errors = []\n",
        "batch_number = 0\n",
        "K = 1\n",
        "\n",
        "#creating datasets\n",
        "train_ds = \\\n",
        "    tf.data.Dataset.from_tensor_slices((trX, trY)).batch(batchsize)\n",
        "\n",
        "for epoch in range(epochs):\n",
        "    for batch_x, batch_y in train_ds:\n",
        "        batch_number += 1\n",
        "        for i_sample in range(batchsize):           \n",
        "            for k in range(K):\n",
        "                v0_state = batch_x[i_sample]\n",
        "                h0_state = hidden_layer(v0_state, W, hb)\n",
        "                v1_state = reconstructed_output(h0_state, W, vb)\n",
        "                h1_state = hidden_layer(v1_state, W, hb)\n",
        "                delta_W = tf.matmul(tf.transpose([v0_state]), h0_state) - tf.matmul(tf.transpose([v1_state]), h1_state)\n",
        "                W = W + alpha * delta_W\n",
        "\n",
        "                vb = vb + alpha * tf.reduce_mean(v0_state - v1_state, 0)\n",
        "                hb = hb + alpha * tf.reduce_mean(h0_state - h1_state, 0) \n",
        "\n",
        "                v0_state = v1_state\n",
        "\n",
        "            if i_sample == batchsize-1:\n",
        "                err = error(batch_x[i_sample], v1_state)\n",
        "                errors.append(err)\n",
        "                weights.append(W)\n",
        "                print ( 'Epoch: %d' % epoch, \n",
        "                       \"batch #: %i \" % batch_number, \"of %i\" % int(60e3/batchsize), \n",
        "                       \"sample #: %i\" % i_sample,\n",
        "                       'reconstruction error: %f' % err)\n"
      ]
    },
    {
      "cell_type": "code",
      "execution_count": null,
      "metadata": {
        "colab": {
          "background_save": true
        },
        "id": "XmyLN4Q47694",
        "outputId": "f40581c5-7bf7-4e01-d4a2-2361952e1b65"
      },
      "outputs": [
        {
          "data": {
            "image/png": "[encoded data removed]",
            "text/plain": [
              "<Figure size 432x288 with 1 Axes>"
            ]
          },
          "metadata": {},
          "output_type": "display_data"
        }
      ],
      "source": [
        "plt.plot(errors)\n",
        "plt.xlabel(\"Batch Number\")\n",
        "plt.ylabel(\"Error\")\n",
        "plt.show()"
      ]
    },
    {
      "cell_type": "code",
      "execution_count": null,
      "metadata": {
        "colab": {
          "background_save": true
        },
        "id": "0TDw8H2B7_n7",
        "outputId": "82416e1c-59af-44a4-9fbe-6a3dcd2e277b"
      },
      "outputs": [
        {
          "name": "stdout",
          "output_type": "stream",
          "text": [
            "[[-0.32999995 -0.27       -0.21000002 ... -0.27       -0.36999992\n",
            "  -0.5499998 ]\n",
            " [-0.34999993 -0.31999996 -0.17       ... -0.31999996 -0.34999993\n",
            "  -0.45999983]\n",
            " [-0.40999988 -0.32999995 -0.13999999 ... -0.27       -0.31999996\n",
            "  -0.5199998 ]\n",
            " ...\n",
            " [-0.31999996 -0.30999997 -0.19000001 ... -0.26000002 -0.34999993\n",
            "  -0.5299998 ]\n",
            " [-0.29999998 -0.24000004 -0.14999999 ... -0.34999993 -0.31999996\n",
            "  -0.5099998 ]\n",
            " [-0.36999992 -0.30999997 -0.18       ... -0.24000004 -0.33999994\n",
            "  -0.5199998 ]]\n"
          ]
        }
      ],
      "source": [
        "print(W.numpy()) # a weight matrix of shape (50,784)"
      ]
    },
    {
      "cell_type": "code",
      "execution_count": null,
      "metadata": {
        "colab": {
          "background_save": true
        },
        "id": "OlmAfaVW8DJe",
        "outputId": "5979599c-8886-4b4c-cf9e-5db6aca659c3"
      },
      "outputs": [
        {
          "data": {
            "image/png": "[encoded data removed]",
            "text/plain": [
              "<Figure size 1296x1296 with 1 Axes>"
            ]
          },
          "metadata": {},
          "output_type": "display_data"
        }
      ],
      "source": [
        "tile_raster_images(X=W.numpy().T, img_shape=(28, 28), tile_shape=(5, 10), tile_spacing=(1, 1))\n",
        "import matplotlib.pyplot as plt\n",
        "from PIL import Image\n",
        "%matplotlib inline\n",
        "image = Image.fromarray(tile_raster_images(X=W.numpy().T, img_shape=(28, 28) ,tile_shape=(5, 10), tile_spacing=(1, 1)))\n",
        "### Plot image\n",
        "plt.rcParams['figure.figsize'] = (18.0, 18.0)\n",
        "imgplot = plt.imshow(image)\n",
        "imgplot.set_cmap('gray')  "
      ]
    },
    {
      "cell_type": "code",
      "execution_count": null,
      "metadata": {
        "colab": {
          "background_save": true
        },
        "id": "R-r9pO1c8GgV",
        "outputId": "fead7232-34b8-43ef-924c-3a6ab218266d"
      },
      "outputs": [
        {
          "data": {
            "image/png": "[encoded data removed]",
            "text/plain": [
              "<Figure size 288x288 with 1 Axes>"
            ]
          },
          "metadata": {},
          "output_type": "display_data"
        }
      ],
      "source": [
        "from PIL import Image\n",
        "image = Image.fromarray(tile_raster_images(X =W.numpy().T[10:11], img_shape=(28, 28),tile_shape=(1, 1), tile_spacing=(1, 1)))\n",
        "### Plot image\n",
        "plt.rcParams['figure.figsize'] = (4.0, 4.0)\n",
        "imgplot = plt.imshow(image)\n",
        "imgplot.set_cmap('gray')  "
      ]
    },
    {
      "cell_type": "code",
      "execution_count": null,
      "metadata": {
        "colab": {
          "background_save": true
        },
        "id": "rnrHvAHP8JlY",
        "outputId": "a3b7336b-f207-4f15-f731-99227d008969"
      },
      "outputs": [
        {
          "name": "stdout",
          "output_type": "stream",
          "text": [
            "--2022-11-12 05:07:24--  https://ibm.box.com/shared/static/vvm1b63uvuxq88vbw9znpwu5ol380mco.jpg\n",
            "Resolving ibm.box.com (ibm.box.com)... 74.112.186.144\n",
            "Connecting to ibm.box.com (ibm.box.com)|74.112.186.144|:443... connected.\n",
            "HTTP request sent, awaiting response... 301 Moved Permanently\n",
            "Location: /public/static/vvm1b63uvuxq88vbw9znpwu5ol380mco.jpg [following]\n",
            "--2022-11-12 05:07:24--  https://ibm.box.com/public/static/vvm1b63uvuxq88vbw9znpwu5ol380mco.jpg\n",
            "Reusing existing connection to ibm.box.com:443.\n",
            "HTTP request sent, awaiting response... 301 Moved Permanently\n",
            "Location: https://ibm.ent.box.com/public/static/vvm1b63uvuxq88vbw9znpwu5ol380mco.jpg [following]\n",
            "--2022-11-12 05:07:24--  https://ibm.ent.box.com/public/static/vvm1b63uvuxq88vbw9znpwu5ol380mco.jpg\n",
            "Resolving ibm.ent.box.com (ibm.ent.box.com)... 74.112.186.144\n",
            "Connecting to ibm.ent.box.com (ibm.ent.box.com)|74.112.186.144|:443... connected.\n",
            "HTTP request sent, awaiting response... 302 Found\n",
            "Location: https://dl2.boxcloud.com/d/1/b1!7EDEZKRVbIm7fKgVtp568Hwx2xq1XBR1Pug2bXElyZUtzf6wC4bHi3D94aNRU7srxMQLYmQax2DpBq1Vyz3f-U1gWfJ-k84p18bBQfvQCZPIY3pHVghgBi-0q4uXllGZfuYI--j55tCCDnIkFGX5Qqj66c2MRMNujGtyAlQkrUHO3JQFZgYudx1m2AkOVuwxPx-4HSy8-QbYvHyDf5Nf4k7IcW-nzjYC3xdN1bQZQ5AsyWi32Kq8dXtDZWkzQlgTQn-lftOP7TpnHloRo3OlxDA9l2_zA1IsQeKf8_akNwRD3iVnMEpW8CM10aVjcuGFnkmJsBo5lgNQB4e0Vy0l0s_xZ5VtK5PJJJAqan0GA6XNWggMNcE53L0jsbWTqS0WHU0UtWIKf38bWP32x7hDvqKkzZKGXt2UshZJ9S6w8MyWwirs-hLTkWsPVCWXbLc46aDiwobpXEqahkXGjYbxoHNcijmfy5ZPzcCsmtakMaQqkPr9lkdtbP4__zD3WqhdISjdtoXBjjF6-mElA_pY-h1JREIPJzOdzE4Vv2mzurlG9vwv797m_4awxnmVdJHVJy-JQvURrFT1sjjL6mUsAJrA3VRwvcCIiplCBaGh6hWrzbeUVYwsg8kHbm54wgBFKCmDi_BwyNs7RvpFCS51LAc6UJpjOfUn6BA4sqZ5QU32D-rnq1yfo7O07iZoCToX_BJY5EnSMFhXpnUy9mofWxOLT6pKtLBmAEBrTty1qfUFxMb3ojgClUSYFonys8wrqq-RPmd6OWg3TAb8SkSOXN3YiBiRODQHHrHdHssXsrHbd5C78_lAMceJSGHfAZgGcfTcKL5zwcVX3R4RJKSUxMVQc7QkrJo3pv9hfvFHPAHGshZdPIPdPD_YnujbtTfRSWieuYSjZUuvn1At-Hz7RS7kDwXp5OHbHzkPwJMGx6kU-wRolKJlCmGz8lZmIAamf2Q_ig1NMUQTIx-pqp2inwQ8yZGlxx3_uqDcxmj1XMBWMwRndvQDf53V5NqAl78hb1YpSZ5nrWkfWAutLJReqmA8pEOk6AciYrECb_EJjc-WXiC-e6YYrYh4EjIJnRjdkkxV0Rq6zkeDeJQfoYAtlEdO-WkW-WNg3fKRdOO3W06xOLhiFMI2IN5usZ59TD89BQANe2EYciB387LIOTHVjdHZw2sDeTBAXpfHePon3gYByJpgBeWA7LVGlETexeWBKWO1rQdoaURmlklHA3IeflMQrPM_Egz9KjYSk-vZ2kDNw0B3GpxBWfsRJUrr3U0dD-iRmiCFxLxXFEkVUuMzlWiLB6ge1ePLrbq0VYK9IZB6GyJAaW-g7Sa2Ddxajhs34ly5SFETwN8qXkWN5B-ojGRijtg_R1Fm3SooKiCW1KCV34DRhRygLyJEa5Un-kp1RiIDRV2A3llbjaypPeDCgqE./download [following]\n",
            "--2022-11-12 05:07:26--  https://dl2.boxcloud.com/d/1/b1!7EDEZKRVbIm7fKgVtp568Hwx2xq1XBR1Pug2bXElyZUtzf6wC4bHi3D94aNRU7srxMQLYmQax2DpBq1Vyz3f-U1gWfJ-k84p18bBQfvQCZPIY3pHVghgBi-0q4uXllGZfuYI--j55tCCDnIkFGX5Qqj66c2MRMNujGtyAlQkrUHO3JQFZgYudx1m2AkOVuwxPx-4HSy8-QbYvHyDf5Nf4k7IcW-nzjYC3xdN1bQZQ5AsyWi32Kq8dXtDZWkzQlgTQn-lftOP7TpnHloRo3OlxDA9l2_zA1IsQeKf8_akNwRD3iVnMEpW8CM10aVjcuGFnkmJsBo5lgNQB4e0Vy0l0s_xZ5VtK5PJJJAqan0GA6XNWggMNcE53L0jsbWTqS0WHU0UtWIKf38bWP32x7hDvqKkzZKGXt2UshZJ9S6w8MyWwirs-hLTkWsPVCWXbLc46aDiwobpXEqahkXGjYbxoHNcijmfy5ZPzcCsmtakMaQqkPr9lkdtbP4__zD3WqhdISjdtoXBjjF6-mElA_pY-h1JREIPJzOdzE4Vv2mzurlG9vwv797m_4awxnmVdJHVJy-JQvURrFT1sjjL6mUsAJrA3VRwvcCIiplCBaGh6hWrzbeUVYwsg8kHbm54wgBFKCmDi_BwyNs7RvpFCS51LAc6UJpjOfUn6BA4sqZ5QU32D-rnq1yfo7O07iZoCToX_BJY5EnSMFhXpnUy9mofWxOLT6pKtLBmAEBrTty1qfUFxMb3ojgClUSYFonys8wrqq-RPmd6OWg3TAb8SkSOXN3YiBiRODQHHrHdHssXsrHbd5C78_lAMceJSGHfAZgGcfTcKL5zwcVX3R4RJKSUxMVQc7QkrJo3pv9hfvFHPAHGshZdPIPdPD_YnujbtTfRSWieuYSjZUuvn1At-Hz7RS7kDwXp5OHbHzkPwJMGx6kU-wRolKJlCmGz8lZmIAamf2Q_ig1NMUQTIx-pqp2inwQ8yZGlxx3_uqDcxmj1XMBWMwRndvQDf53V5NqAl78hb1YpSZ5nrWkfWAutLJReqmA8pEOk6AciYrECb_EJjc-WXiC-e6YYrYh4EjIJnRjdkkxV0Rq6zkeDeJQfoYAtlEdO-WkW-WNg3fKRdOO3W06xOLhiFMI2IN5usZ59TD89BQANe2EYciB387LIOTHVjdHZw2sDeTBAXpfHePon3gYByJpgBeWA7LVGlETexeWBKWO1rQdoaURmlklHA3IeflMQrPM_Egz9KjYSk-vZ2kDNw0B3GpxBWfsRJUrr3U0dD-iRmiCFxLxXFEkVUuMzlWiLB6ge1ePLrbq0VYK9IZB6GyJAaW-g7Sa2Ddxajhs34ly5SFETwN8qXkWN5B-ojGRijtg_R1Fm3SooKiCW1KCV34DRhRygLyJEa5Un-kp1RiIDRV2A3llbjaypPeDCgqE./download\n",
            "Resolving dl2.boxcloud.com (dl2.boxcloud.com)... 74.112.186.128\n",
            "Connecting to dl2.boxcloud.com (dl2.boxcloud.com)|74.112.186.128|:443... connected.\n",
            "HTTP request sent, awaiting response... 200 OK\n",
            "Length: 24383 (24K) [image/jpeg]\n",
            "Saving to: ‘destructed3.jpg’\n",
            "\n",
            "destructed3.jpg     100%[===================>]  23.81K  --.-KB/s    in 0.03s   \n",
            "\n",
            "2022-11-12 05:07:26 (687 KB/s) - ‘destructed3.jpg’ saved [24383/24383]\n",
            "\n"
          ]
        },
        {
          "ename": "UnidentifiedImageError",
          "evalue": "ignored",
          "output_type": "error",
          "traceback": [
            "\u001b[0;31m---------------------------------------------------------------------------\u001b[0m",
            "\u001b[0;31mUnidentifiedImageError\u001b[0m                    Traceback (most recent call last)",
            "\u001b[0;32m<ipython-input-24-37158fd43dd7>\u001b[0m in \u001b[0;36m<module>\u001b[0;34m\u001b[0m\n\u001b[1;32m      1\u001b[0m \u001b[0mget_ipython\u001b[0m\u001b[0;34m(\u001b[0m\u001b[0;34m)\u001b[0m\u001b[0;34m.\u001b[0m\u001b[0msystem\u001b[0m\u001b[0;34m(\u001b[0m\u001b[0;34m'wget -O destructed3.jpg  https://ibm.box.com/shared/static/vvm1b63uvuxq88vbw9znpwu5ol380mco.jpg'\u001b[0m\u001b[0;34m)\u001b[0m\u001b[0;34m\u001b[0m\u001b[0;34m\u001b[0m\u001b[0m\n\u001b[0;32m----> 2\u001b[0;31m \u001b[0mimg\u001b[0m \u001b[0;34m=\u001b[0m \u001b[0mImage\u001b[0m\u001b[0;34m.\u001b[0m\u001b[0mopen\u001b[0m\u001b[0;34m(\u001b[0m\u001b[0;34m'destructed3.jpg'\u001b[0m\u001b[0;34m)\u001b[0m\u001b[0;34m\u001b[0m\u001b[0;34m\u001b[0m\u001b[0m\n\u001b[0m\u001b[1;32m      3\u001b[0m \u001b[0mimg\u001b[0m\u001b[0;34m\u001b[0m\u001b[0;34m\u001b[0m\u001b[0m\n",
            "\u001b[0;32m/usr/local/lib/python3.7/dist-packages/PIL/Image.py\u001b[0m in \u001b[0;36mopen\u001b[0;34m(fp, mode)\u001b[0m\n\u001b[1;32m   2894\u001b[0m \u001b[0;34m\u001b[0m\u001b[0m\n\u001b[1;32m   2895\u001b[0m     \u001b[0mNote\u001b[0m \u001b[0mthat\u001b[0m \u001b[0mthis\u001b[0m \u001b[0mfunction\u001b[0m \u001b[0mdecodes\u001b[0m \u001b[0mpixel\u001b[0m \u001b[0mdata\u001b[0m \u001b[0monly\u001b[0m\u001b[0;34m,\u001b[0m \u001b[0;32mnot\u001b[0m \u001b[0mentire\u001b[0m \u001b[0mimages\u001b[0m\u001b[0;34m.\u001b[0m\u001b[0;34m\u001b[0m\u001b[0;34m\u001b[0m\u001b[0m\n\u001b[0;32m-> 2896\u001b[0;31m     \u001b[0mIf\u001b[0m \u001b[0myou\u001b[0m \u001b[0mhave\u001b[0m \u001b[0man\u001b[0m \u001b[0mentire\u001b[0m \u001b[0mimage\u001b[0m \u001b[0mfile\u001b[0m \u001b[0;32min\u001b[0m \u001b[0ma\u001b[0m \u001b[0mstring\u001b[0m\u001b[0;34m,\u001b[0m \u001b[0mwrap\u001b[0m \u001b[0mit\u001b[0m \u001b[0;32min\u001b[0m \u001b[0ma\u001b[0m\u001b[0;34m\u001b[0m\u001b[0;34m\u001b[0m\u001b[0m\n\u001b[0m\u001b[1;32m   2897\u001b[0m     \u001b[0;34m:\u001b[0m\u001b[0mpy\u001b[0m\u001b[0;34m:\u001b[0m\u001b[0;32mclass\u001b[0m\u001b[0;34m:\u001b[0m\u001b[0;31m`\u001b[0m\u001b[0;34m~\u001b[0m\u001b[0mio\u001b[0m\u001b[0;34m.\u001b[0m\u001b[0mBytesIO\u001b[0m\u001b[0;31m`\u001b[0m \u001b[0mobject\u001b[0m\u001b[0;34m,\u001b[0m \u001b[0;32mand\u001b[0m \u001b[0muse\u001b[0m \u001b[0;34m:\u001b[0m\u001b[0mpy\u001b[0m\u001b[0;34m:\u001b[0m\u001b[0mfunc\u001b[0m\u001b[0;34m:\u001b[0m\u001b[0;31m`\u001b[0m\u001b[0;34m~\u001b[0m\u001b[0mPIL\u001b[0m\u001b[0;34m.\u001b[0m\u001b[0mImage\u001b[0m\u001b[0;34m.\u001b[0m\u001b[0mopen\u001b[0m\u001b[0;31m`\u001b[0m \u001b[0mto\u001b[0m \u001b[0mload\u001b[0m \u001b[0mit\u001b[0m\u001b[0;34m.\u001b[0m\u001b[0;34m\u001b[0m\u001b[0;34m\u001b[0m\u001b[0m\n\u001b[1;32m   2898\u001b[0m \u001b[0;34m\u001b[0m\u001b[0m\n",
            "\u001b[0;31mUnidentifiedImageError\u001b[0m: cannot identify image file 'destructed3.jpg'"
          ]
        }
      ],
      "source": [
        "!wget -O destructed3.jpg  https://ibm.box.com/shared/static/vvm1b63uvuxq88vbw9znpwu5ol380mco.jpg\n",
        "img = Image.open('destructed3.jpg')\n",
        "img"
      ]
    },
    {
      "cell_type": "code",
      "execution_count": null,
      "metadata": {
        "colab": {
          "background_save": true
        },
        "id": "pvF1hUww8MIY"
      },
      "outputs": [],
      "source": [
        "# convert the image to a 1d numpy array\n",
        "sample_case = np.array(img.convert('I').resize((28,28))).ravel().reshape((1, -1))/255.0\n",
        "\n",
        "sample_case = tf.cast(sample_case, dtype=tf.float32)"
      ]
    },
    {
      "cell_type": "code",
      "execution_count": null,
      "metadata": {
        "colab": {
          "background_save": true
        },
        "id": "Navu79MK8P16"
      },
      "outputs": [],
      "source": [
        "hh0_p = tf.nn.sigmoid(tf.matmul(sample_case, W) + hb)\n",
        "hh0_s = tf.round(hh0_p)\n",
        "\n",
        "print(\"Probability nodes in hidden layer:\" ,hh0_p)\n",
        "\n",
        "print(\"activated nodes in hidden layer:\" ,hh0_s)\n",
        "\n",
        "# reconstruct\n",
        "vv1_p = tf.nn.sigmoid(tf.matmul(hh0_s, tf.transpose(W)) + vb)\n",
        "\n",
        "print(vv1_p)\n",
        "#rec_prob = sess.run(vv1_p, feed_dict={ hh0_s: hh0_s_val, W: prv_w, vb: prv_vb})"
      ]
    },
    {
      "cell_type": "code",
      "execution_count": null,
      "metadata": {
        "colab": {
          "background_save": true
        },
        "id": "PK-F4WNX8SI9"
      },
      "outputs": [],
      "source": [
        "img = Image.fromarray(tile_raster_images(X=vv1_p.numpy(), img_shape=(28, 28),tile_shape=(1, 1), tile_spacing=(1, 1)))\n",
        "plt.rcParams['figure.figsize'] = (4.0, 4.0)\n",
        "imgplot = plt.imshow(img)\n",
        "imgplot.set_cmap('gray') "
      ]
    },
    {
      "cell_type": "code",
      "execution_count": null,
      "metadata": {
        "colab": {
          "background_save": true
        },
        "id": "FZ1a_QPg8VZQ"
      },
      "outputs": [],
      "source": []
    }
  ],
  "metadata": {
    "colab": {
      "provenance": [],
      "authorship_tag": "ABX9TyNQkN6BoPrDMw7WBmTMh5Uk",
      "include_colab_link": true
    },
    "kernelspec": {
      "display_name": "Python 3",
      "name": "python3"
    },
    "language_info": {
      "name": "python"
    }
  },
  "nbformat": 4,
  "nbformat_minor": 0
}